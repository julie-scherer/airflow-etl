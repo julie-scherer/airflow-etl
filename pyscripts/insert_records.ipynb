{
 "cells": [
  {
   "cell_type": "code",
   "execution_count": 99,
   "metadata": {},
   "outputs": [],
   "source": [
    "import pandas as pd"
   ]
  },
  {
   "cell_type": "code",
   "execution_count": 100,
   "metadata": {},
   "outputs": [],
   "source": [
    "# our dataframe\n",
    "csv_file = '../data/listings.csv'\n",
    "df = pd.read_csv(csv_file) # get data in form of dataframe"
   ]
  },
  {
   "attachments": {},
   "cell_type": "markdown",
   "metadata": {},
   "source": [
    "### Location table"
   ]
  },
  {
   "cell_type": "code",
   "execution_count": 101,
   "metadata": {},
   "outputs": [],
   "source": [
    "location=df.loc[:,[\n",
    "    'neighbourhood',\n",
    "    'latitude',\n",
    "    'longitude',\n",
    "    'neighborhood_overview',\n",
    "]]"
   ]
  },
  {
   "cell_type": "code",
   "execution_count": 102,
   "metadata": {},
   "outputs": [],
   "source": [
    "location.rename(columns={\n",
    "    'neighbourhood' : 'neighborhood'\n",
    "}, inplace=True)"
   ]
  },
  {
   "cell_type": "code",
   "execution_count": 103,
   "metadata": {},
   "outputs": [
    {
     "data": {
      "text/html": [
       "<div>\n",
       "<style scoped>\n",
       "    .dataframe tbody tr th:only-of-type {\n",
       "        vertical-align: middle;\n",
       "    }\n",
       "\n",
       "    .dataframe tbody tr th {\n",
       "        vertical-align: top;\n",
       "    }\n",
       "\n",
       "    .dataframe thead th {\n",
       "        text-align: right;\n",
       "    }\n",
       "</style>\n",
       "<table border=\"1\" class=\"dataframe\">\n",
       "  <thead>\n",
       "    <tr style=\"text-align: right;\">\n",
       "      <th></th>\n",
       "      <th>neighborhood</th>\n",
       "      <th>latitude</th>\n",
       "      <th>longitude</th>\n",
       "      <th>neighborhood_overview</th>\n",
       "    </tr>\n",
       "  </thead>\n",
       "  <tbody>\n",
       "    <tr>\n",
       "      <th>0</th>\n",
       "      <td>Chicago, Illinois, United States</td>\n",
       "      <td>41.787900</td>\n",
       "      <td>-87.587800</td>\n",
       "      <td>The apartment is less than one block from beau...</td>\n",
       "    </tr>\n",
       "    <tr>\n",
       "      <th>1</th>\n",
       "      <td>Chicago, Illinois, United States</td>\n",
       "      <td>41.902890</td>\n",
       "      <td>-87.681820</td>\n",
       "      <td>Ukrainian Village was just named \"Hottest Neig...</td>\n",
       "    </tr>\n",
       "    <tr>\n",
       "      <th>2</th>\n",
       "      <td>NaN</td>\n",
       "      <td>41.911830</td>\n",
       "      <td>-87.640000</td>\n",
       "      <td>NaN</td>\n",
       "    </tr>\n",
       "    <tr>\n",
       "      <th>3</th>\n",
       "      <td>Chicago, Illinois, United States</td>\n",
       "      <td>41.923350</td>\n",
       "      <td>-87.649510</td>\n",
       "      <td>The Guest House is in the heart of Chicago's m...</td>\n",
       "    </tr>\n",
       "    <tr>\n",
       "      <th>4</th>\n",
       "      <td>Chicago, Illinois, United States</td>\n",
       "      <td>41.925961</td>\n",
       "      <td>-87.656364</td>\n",
       "      <td>Lincoln Park is a great neighborhood where peo...</td>\n",
       "    </tr>\n",
       "  </tbody>\n",
       "</table>\n",
       "</div>"
      ],
      "text/plain": [
       "                       neighborhood   latitude  longitude  \\\n",
       "0  Chicago, Illinois, United States  41.787900 -87.587800   \n",
       "1  Chicago, Illinois, United States  41.902890 -87.681820   \n",
       "2                               NaN  41.911830 -87.640000   \n",
       "3  Chicago, Illinois, United States  41.923350 -87.649510   \n",
       "4  Chicago, Illinois, United States  41.925961 -87.656364   \n",
       "\n",
       "                               neighborhood_overview  \n",
       "0  The apartment is less than one block from beau...  \n",
       "1  Ukrainian Village was just named \"Hottest Neig...  \n",
       "2                                                NaN  \n",
       "3  The Guest House is in the heart of Chicago's m...  \n",
       "4  Lincoln Park is a great neighborhood where peo...  "
      ]
     },
     "execution_count": 103,
     "metadata": {},
     "output_type": "execute_result"
    }
   ],
   "source": [
    "location.head()"
   ]
  },
  {
   "attachments": {},
   "cell_type": "markdown",
   "metadata": {},
   "source": [
    "### Host table"
   ]
  },
  {
   "cell_type": "code",
   "execution_count": 104,
   "metadata": {},
   "outputs": [],
   "source": [
    "host=df.loc[:,[\n",
    "    'host_id',\n",
    "    'host_url',\n",
    "    'host_name',\n",
    "    'host_since',\n",
    "    'host_location',\n",
    "    'host_about',\n",
    "    'host_response_rate',\n",
    "    'host_acceptance_rate',\n",
    "    'host_is_superhost',\n",
    "    'host_neighbourhood',\n",
    "    'host_listings_count',\n",
    "    'host_total_listings_count',\n",
    "    'host_verifications', # -> email, phone\n",
    "    # 'email_verified',\n",
    "    # 'phone_verified',\n",
    "    'host_has_profile_pic',\n",
    "    'host_identity_verified',\n",
    "]]"
   ]
  },
  {
   "cell_type": "code",
   "execution_count": 105,
   "metadata": {},
   "outputs": [],
   "source": [
    "# remove 'host_' prefix from col names\n",
    "for col_i in range(1,len(host.columns)):\n",
    "\tif 'host_' in host.columns[col_i]:\n",
    "\t\tnew = host.columns[col_i].replace('host_','')\n",
    "\t\thost.rename(columns={\n",
    "\t\t\thost.columns[col_i] : new\n",
    "        }, inplace=True)"
   ]
  },
  {
   "cell_type": "code",
   "execution_count": 106,
   "metadata": {},
   "outputs": [],
   "source": [
    "# create lists of bools for verified email / phone\n",
    "email_bools, phone_bools = [], []\n",
    "for v in host['verifications']:\n",
    "\temail_bools.append(True) if \"email\" in v else email_bools.append(False)\n",
    "\tphone_bools.append(True) if \"phone\" in v else phone_bools.append(False)\n",
    "\n",
    "# insert columns in host df\n",
    "host.insert(14, 'email_verified', email_bools) # host['email_verified'] = email_bools\n",
    "host.insert(15, 'phone_verified', phone_bools) # host['phone_verified'] = phone_bools\n",
    "\n",
    "# delete verifications column\n",
    "del host['verifications']"
   ]
  },
  {
   "cell_type": "code",
   "execution_count": 107,
   "metadata": {},
   "outputs": [],
   "source": [
    "# change british spelling\n",
    "host.rename(columns={\n",
    "\t'neighbourhood' : 'neighborhood'\n",
    "}, inplace=True)"
   ]
  },
  {
   "cell_type": "code",
   "execution_count": null,
   "metadata": {},
   "outputs": [],
   "source": [
    "i = 0\n",
    "for val in host.response_rate:\n",
    "    if isinstance(val, str):\n",
    "        host.response_rate[i] = float(val.strip('%'))\n",
    "    i += 1\n",
    "\n",
    "j = 0\n",
    "for val in host.acceptance_rate:\n",
    "    if isinstance(val, str):\n",
    "        host.acceptance_rate[j] = float(val.strip('%'))\n",
    "    j += 1"
   ]
  },
  {
   "cell_type": "code",
   "execution_count": 123,
   "metadata": {},
   "outputs": [
    {
     "data": {
      "text/html": [
       "<div>\n",
       "<style scoped>\n",
       "    .dataframe tbody tr th:only-of-type {\n",
       "        vertical-align: middle;\n",
       "    }\n",
       "\n",
       "    .dataframe tbody tr th {\n",
       "        vertical-align: top;\n",
       "    }\n",
       "\n",
       "    .dataframe thead th {\n",
       "        text-align: right;\n",
       "    }\n",
       "</style>\n",
       "<table border=\"1\" class=\"dataframe\">\n",
       "  <thead>\n",
       "    <tr style=\"text-align: right;\">\n",
       "      <th></th>\n",
       "      <th>host_id</th>\n",
       "      <th>url</th>\n",
       "      <th>name</th>\n",
       "      <th>since</th>\n",
       "      <th>location</th>\n",
       "      <th>about</th>\n",
       "      <th>response_rate</th>\n",
       "      <th>acceptance_rate</th>\n",
       "      <th>is_superhost</th>\n",
       "      <th>neighborhood</th>\n",
       "      <th>listings_count</th>\n",
       "      <th>total_listings_count</th>\n",
       "      <th>has_profile_pic</th>\n",
       "      <th>email_verified</th>\n",
       "      <th>phone_verified</th>\n",
       "      <th>identity_verified</th>\n",
       "    </tr>\n",
       "  </thead>\n",
       "  <tbody>\n",
       "    <tr>\n",
       "      <th>0</th>\n",
       "      <td>2613</td>\n",
       "      <td>https://www.airbnb.com/users/show/2613</td>\n",
       "      <td>Rebecca</td>\n",
       "      <td>2008-08-29</td>\n",
       "      <td>Chicago, IL</td>\n",
       "      <td>My 2 bdrm apartment is a 2nd floor walk-up in ...</td>\n",
       "      <td>100.0</td>\n",
       "      <td>97.0</td>\n",
       "      <td>t</td>\n",
       "      <td>Hyde Park</td>\n",
       "      <td>1</td>\n",
       "      <td>1</td>\n",
       "      <td>t</td>\n",
       "      <td>True</td>\n",
       "      <td>True</td>\n",
       "      <td>t</td>\n",
       "    </tr>\n",
       "    <tr>\n",
       "      <th>1</th>\n",
       "      <td>17928</td>\n",
       "      <td>https://www.airbnb.com/users/show/17928</td>\n",
       "      <td>Sarah</td>\n",
       "      <td>2009-05-19</td>\n",
       "      <td>Chicago, IL</td>\n",
       "      <td>We live in Chicago. We love to travel and see ...</td>\n",
       "      <td>100.0</td>\n",
       "      <td>94.0</td>\n",
       "      <td>t</td>\n",
       "      <td>Ukrainian Village</td>\n",
       "      <td>2</td>\n",
       "      <td>2</td>\n",
       "      <td>t</td>\n",
       "      <td>True</td>\n",
       "      <td>True</td>\n",
       "      <td>t</td>\n",
       "    </tr>\n",
       "    <tr>\n",
       "      <th>2</th>\n",
       "      <td>33004</td>\n",
       "      <td>https://www.airbnb.com/users/show/33004</td>\n",
       "      <td>At Home Inn</td>\n",
       "      <td>2009-08-21</td>\n",
       "      <td>Chicago, IL</td>\n",
       "      <td>Hi, we're Bob and Liz Biddle, long time Chicag...</td>\n",
       "      <td>100.0</td>\n",
       "      <td>99.0</td>\n",
       "      <td>t</td>\n",
       "      <td>Old Town</td>\n",
       "      <td>10</td>\n",
       "      <td>82</td>\n",
       "      <td>t</td>\n",
       "      <td>True</td>\n",
       "      <td>True</td>\n",
       "      <td>t</td>\n",
       "    </tr>\n",
       "    <tr>\n",
       "      <th>3</th>\n",
       "      <td>46734</td>\n",
       "      <td>https://www.airbnb.com/users/show/46734</td>\n",
       "      <td>Sharon And Robert</td>\n",
       "      <td>2009-10-18</td>\n",
       "      <td>Chicago, IL</td>\n",
       "      <td>Best in the city with long-time urban-dwelling...</td>\n",
       "      <td>100.0</td>\n",
       "      <td>89.0</td>\n",
       "      <td>f</td>\n",
       "      <td>Lincoln Park</td>\n",
       "      <td>1</td>\n",
       "      <td>1</td>\n",
       "      <td>t</td>\n",
       "      <td>True</td>\n",
       "      <td>True</td>\n",
       "      <td>t</td>\n",
       "    </tr>\n",
       "    <tr>\n",
       "      <th>4</th>\n",
       "      <td>101521</td>\n",
       "      <td>https://www.airbnb.com/users/show/101521</td>\n",
       "      <td>Red</td>\n",
       "      <td>2010-03-31</td>\n",
       "      <td>Chicago, IL</td>\n",
       "      <td>Travel is fun and exciting but can be hard on ...</td>\n",
       "      <td>95.0</td>\n",
       "      <td>71.0</td>\n",
       "      <td>f</td>\n",
       "      <td>Lincoln Park</td>\n",
       "      <td>8</td>\n",
       "      <td>12</td>\n",
       "      <td>t</td>\n",
       "      <td>True</td>\n",
       "      <td>True</td>\n",
       "      <td>t</td>\n",
       "    </tr>\n",
       "  </tbody>\n",
       "</table>\n",
       "</div>"
      ],
      "text/plain": [
       "   host_id                                       url               name  \\\n",
       "0     2613    https://www.airbnb.com/users/show/2613            Rebecca   \n",
       "1    17928   https://www.airbnb.com/users/show/17928              Sarah   \n",
       "2    33004   https://www.airbnb.com/users/show/33004        At Home Inn   \n",
       "3    46734   https://www.airbnb.com/users/show/46734  Sharon And Robert   \n",
       "4   101521  https://www.airbnb.com/users/show/101521                Red   \n",
       "\n",
       "        since     location                                              about  \\\n",
       "0  2008-08-29  Chicago, IL  My 2 bdrm apartment is a 2nd floor walk-up in ...   \n",
       "1  2009-05-19  Chicago, IL  We live in Chicago. We love to travel and see ...   \n",
       "2  2009-08-21  Chicago, IL  Hi, we're Bob and Liz Biddle, long time Chicag...   \n",
       "3  2009-10-18  Chicago, IL  Best in the city with long-time urban-dwelling...   \n",
       "4  2010-03-31  Chicago, IL  Travel is fun and exciting but can be hard on ...   \n",
       "\n",
       "  response_rate acceptance_rate is_superhost       neighborhood  \\\n",
       "0         100.0            97.0            t          Hyde Park   \n",
       "1         100.0            94.0            t  Ukrainian Village   \n",
       "2         100.0            99.0            t           Old Town   \n",
       "3         100.0            89.0            f       Lincoln Park   \n",
       "4          95.0            71.0            f       Lincoln Park   \n",
       "\n",
       "   listings_count  total_listings_count has_profile_pic  email_verified  \\\n",
       "0               1                     1               t            True   \n",
       "1               2                     2               t            True   \n",
       "2              10                    82               t            True   \n",
       "3               1                     1               t            True   \n",
       "4               8                    12               t            True   \n",
       "\n",
       "   phone_verified identity_verified  \n",
       "0            True                 t  \n",
       "1            True                 t  \n",
       "2            True                 t  \n",
       "3            True                 t  \n",
       "4            True                 t  "
      ]
     },
     "execution_count": 123,
     "metadata": {},
     "output_type": "execute_result"
    }
   ],
   "source": [
    "host.head()"
   ]
  },
  {
   "attachments": {},
   "cell_type": "markdown",
   "metadata": {},
   "source": [
    "### Reviews table"
   ]
  },
  {
   "cell_type": "code",
   "execution_count": 110,
   "metadata": {},
   "outputs": [],
   "source": [
    "reviews=df.loc[:,[\n",
    "\t'number_of_reviews',\n",
    "    'first_review',\n",
    "    'last_review',\n",
    "    'reviews_per_month',\n",
    "    'review_scores_rating',\n",
    "    'review_scores_accuracy',\n",
    "    'review_scores_cleanliness',\n",
    "    'review_scores_checkin',\n",
    "    'review_scores_communication',\n",
    "    'review_scores_location',\n",
    "    'review_scores_value'\n",
    "]]"
   ]
  },
  {
   "cell_type": "code",
   "execution_count": 111,
   "metadata": {},
   "outputs": [],
   "source": [
    "import re\n",
    "for col in reviews.columns:\n",
    "    if \"review_scores\" in col:\n",
    "        new = re.sub(\"review_scores_\", \"\", col) + \"_score\"\n",
    "        reviews.rename(columns = {\n",
    "            col : new\n",
    "        }, inplace=True)"
   ]
  },
  {
   "cell_type": "code",
   "execution_count": 112,
   "metadata": {},
   "outputs": [
    {
     "data": {
      "text/html": [
       "<div>\n",
       "<style scoped>\n",
       "    .dataframe tbody tr th:only-of-type {\n",
       "        vertical-align: middle;\n",
       "    }\n",
       "\n",
       "    .dataframe tbody tr th {\n",
       "        vertical-align: top;\n",
       "    }\n",
       "\n",
       "    .dataframe thead th {\n",
       "        text-align: right;\n",
       "    }\n",
       "</style>\n",
       "<table border=\"1\" class=\"dataframe\">\n",
       "  <thead>\n",
       "    <tr style=\"text-align: right;\">\n",
       "      <th></th>\n",
       "      <th>number_of_reviews</th>\n",
       "      <th>first_review</th>\n",
       "      <th>last_review</th>\n",
       "      <th>reviews_per_month</th>\n",
       "      <th>rating_score</th>\n",
       "      <th>accuracy_score</th>\n",
       "      <th>cleanliness_score</th>\n",
       "      <th>checkin_score</th>\n",
       "      <th>communication_score</th>\n",
       "      <th>location_score</th>\n",
       "      <th>value_score</th>\n",
       "    </tr>\n",
       "  </thead>\n",
       "  <tbody>\n",
       "    <tr>\n",
       "      <th>0</th>\n",
       "      <td>211</td>\n",
       "      <td>2015-01-09</td>\n",
       "      <td>2022-11-18</td>\n",
       "      <td>2.18</td>\n",
       "      <td>4.99</td>\n",
       "      <td>4.98</td>\n",
       "      <td>4.99</td>\n",
       "      <td>4.99</td>\n",
       "      <td>4.99</td>\n",
       "      <td>4.96</td>\n",
       "      <td>4.93</td>\n",
       "    </tr>\n",
       "    <tr>\n",
       "      <th>1</th>\n",
       "      <td>475</td>\n",
       "      <td>2009-07-03</td>\n",
       "      <td>2022-12-05</td>\n",
       "      <td>2.90</td>\n",
       "      <td>4.69</td>\n",
       "      <td>4.85</td>\n",
       "      <td>4.56</td>\n",
       "      <td>4.91</td>\n",
       "      <td>4.87</td>\n",
       "      <td>4.88</td>\n",
       "      <td>4.75</td>\n",
       "    </tr>\n",
       "    <tr>\n",
       "      <th>2</th>\n",
       "      <td>59</td>\n",
       "      <td>2014-04-28</td>\n",
       "      <td>2022-11-26</td>\n",
       "      <td>0.56</td>\n",
       "      <td>4.64</td>\n",
       "      <td>4.75</td>\n",
       "      <td>4.80</td>\n",
       "      <td>4.80</td>\n",
       "      <td>4.78</td>\n",
       "      <td>4.98</td>\n",
       "      <td>4.64</td>\n",
       "    </tr>\n",
       "    <tr>\n",
       "      <th>3</th>\n",
       "      <td>13</td>\n",
       "      <td>2015-06-29</td>\n",
       "      <td>2022-09-12</td>\n",
       "      <td>0.14</td>\n",
       "      <td>5.00</td>\n",
       "      <td>5.00</td>\n",
       "      <td>5.00</td>\n",
       "      <td>5.00</td>\n",
       "      <td>5.00</td>\n",
       "      <td>5.00</td>\n",
       "      <td>4.85</td>\n",
       "    </tr>\n",
       "    <tr>\n",
       "      <th>4</th>\n",
       "      <td>41</td>\n",
       "      <td>2010-05-24</td>\n",
       "      <td>2022-11-12</td>\n",
       "      <td>0.27</td>\n",
       "      <td>4.27</td>\n",
       "      <td>4.03</td>\n",
       "      <td>3.97</td>\n",
       "      <td>4.10</td>\n",
       "      <td>4.00</td>\n",
       "      <td>4.90</td>\n",
       "      <td>4.17</td>\n",
       "    </tr>\n",
       "  </tbody>\n",
       "</table>\n",
       "</div>"
      ],
      "text/plain": [
       "   number_of_reviews first_review last_review  reviews_per_month  \\\n",
       "0                211   2015-01-09  2022-11-18               2.18   \n",
       "1                475   2009-07-03  2022-12-05               2.90   \n",
       "2                 59   2014-04-28  2022-11-26               0.56   \n",
       "3                 13   2015-06-29  2022-09-12               0.14   \n",
       "4                 41   2010-05-24  2022-11-12               0.27   \n",
       "\n",
       "   rating_score  accuracy_score  cleanliness_score  checkin_score  \\\n",
       "0          4.99            4.98               4.99           4.99   \n",
       "1          4.69            4.85               4.56           4.91   \n",
       "2          4.64            4.75               4.80           4.80   \n",
       "3          5.00            5.00               5.00           5.00   \n",
       "4          4.27            4.03               3.97           4.10   \n",
       "\n",
       "   communication_score  location_score  value_score  \n",
       "0                 4.99            4.96         4.93  \n",
       "1                 4.87            4.88         4.75  \n",
       "2                 4.78            4.98         4.64  \n",
       "3                 5.00            5.00         4.85  \n",
       "4                 4.00            4.90         4.17  "
      ]
     },
     "execution_count": 112,
     "metadata": {},
     "output_type": "execute_result"
    }
   ],
   "source": [
    "reviews.head()"
   ]
  },
  {
   "attachments": {},
   "cell_type": "markdown",
   "metadata": {},
   "source": [
    "### Listing table"
   ]
  },
  {
   "cell_type": "code",
   "execution_count": 113,
   "metadata": {},
   "outputs": [],
   "source": [
    "listing=df.loc[:,[\n",
    "    'listing_url',\n",
    "    'name',\n",
    "    'description',\n",
    "    'property_type',\n",
    "    'room_type',\n",
    "    'accommodates',\n",
    "    'bathrooms_text',\n",
    "    'bedrooms',\n",
    "    'beds',\n",
    "    'amenities',\n",
    "    'price',\n",
    "    'minimum_nights',\n",
    "    'maximum_nights',\n",
    "]]"
   ]
  },
  {
   "cell_type": "code",
   "execution_count": 114,
   "metadata": {},
   "outputs": [
    {
     "data": {
      "text/plain": [
       "'$999.00'"
      ]
     },
     "execution_count": 114,
     "metadata": {},
     "output_type": "execute_result"
    }
   ],
   "source": [
    "max(listing.price)"
   ]
  },
  {
   "cell_type": "code",
   "execution_count": null,
   "metadata": {},
   "outputs": [],
   "source": [
    "i = 0\n",
    "for val in listing.price:\n",
    "    if isinstance(val, str):\n",
    "        if '$' in val:\n",
    "            val = val.strip('$')\n",
    "        if ',' in val:\n",
    "            val = val.replace(',','')\n",
    "        listing.price[i] = float(val)\n",
    "    i += 1"
   ]
  },
  {
   "cell_type": "code",
   "execution_count": 116,
   "metadata": {},
   "outputs": [
    {
     "data": {
      "text/html": [
       "<div>\n",
       "<style scoped>\n",
       "    .dataframe tbody tr th:only-of-type {\n",
       "        vertical-align: middle;\n",
       "    }\n",
       "\n",
       "    .dataframe tbody tr th {\n",
       "        vertical-align: top;\n",
       "    }\n",
       "\n",
       "    .dataframe thead th {\n",
       "        text-align: right;\n",
       "    }\n",
       "</style>\n",
       "<table border=\"1\" class=\"dataframe\">\n",
       "  <thead>\n",
       "    <tr style=\"text-align: right;\">\n",
       "      <th></th>\n",
       "      <th>listing_url</th>\n",
       "      <th>name</th>\n",
       "      <th>description</th>\n",
       "      <th>property_type</th>\n",
       "      <th>room_type</th>\n",
       "      <th>accommodates</th>\n",
       "      <th>bathrooms_text</th>\n",
       "      <th>bedrooms</th>\n",
       "      <th>beds</th>\n",
       "      <th>amenities</th>\n",
       "      <th>price</th>\n",
       "      <th>minimum_nights</th>\n",
       "      <th>maximum_nights</th>\n",
       "    </tr>\n",
       "  </thead>\n",
       "  <tbody>\n",
       "    <tr>\n",
       "      <th>0</th>\n",
       "      <td>https://www.airbnb.com/rooms/2384</td>\n",
       "      <td>Hyde Park - Walk to UChicago</td>\n",
       "      <td>You are invited to be the sole Airbnb guest in...</td>\n",
       "      <td>Private room in condo</td>\n",
       "      <td>Private room</td>\n",
       "      <td>1</td>\n",
       "      <td>1 shared bath</td>\n",
       "      <td>1.0</td>\n",
       "      <td>1.0</td>\n",
       "      <td>[\"Wine glasses\", \"Smoke alarm\", \"Paid parking ...</td>\n",
       "      <td>84.0</td>\n",
       "      <td>3</td>\n",
       "      <td>89</td>\n",
       "    </tr>\n",
       "    <tr>\n",
       "      <th>1</th>\n",
       "      <td>https://www.airbnb.com/rooms/7126</td>\n",
       "      <td>Tiny Studio Apartment 94 Walk Score</td>\n",
       "      <td>A very small studio in a wonderful neighborhoo...</td>\n",
       "      <td>Entire rental unit</td>\n",
       "      <td>Entire home/apt</td>\n",
       "      <td>2</td>\n",
       "      <td>1 bath</td>\n",
       "      <td>1.0</td>\n",
       "      <td>1.0</td>\n",
       "      <td>[\"Wine glasses\", \"Smoke alarm\", \"Iron\", \"Oven\"...</td>\n",
       "      <td>85.0</td>\n",
       "      <td>2</td>\n",
       "      <td>60</td>\n",
       "    </tr>\n",
       "    <tr>\n",
       "      <th>2</th>\n",
       "      <td>https://www.airbnb.com/rooms/10945</td>\n",
       "      <td>The Biddle House (#1)</td>\n",
       "      <td>Beautiful first floor apartment in Historic Ol...</td>\n",
       "      <td>Entire rental unit</td>\n",
       "      <td>Entire home/apt</td>\n",
       "      <td>4</td>\n",
       "      <td>1 bath</td>\n",
       "      <td>2.0</td>\n",
       "      <td>2.0</td>\n",
       "      <td>[\"Smoke alarm\", \"Iron\", \"Oven\", \"Long term sta...</td>\n",
       "      <td>95.0</td>\n",
       "      <td>4</td>\n",
       "      <td>1125</td>\n",
       "    </tr>\n",
       "    <tr>\n",
       "      <th>3</th>\n",
       "      <td>https://www.airbnb.com/rooms/12140</td>\n",
       "      <td>Lincoln Park Guest House</td>\n",
       "      <td>Bed and Breakfast license issued by the City o...</td>\n",
       "      <td>Room in boutique hotel</td>\n",
       "      <td>Private room</td>\n",
       "      <td>3</td>\n",
       "      <td>1 private bath</td>\n",
       "      <td>1.0</td>\n",
       "      <td>1.0</td>\n",
       "      <td>[\"Smoke alarm\", \"Iron\", \"First aid kit\", \"Fire...</td>\n",
       "      <td>329.0</td>\n",
       "      <td>2</td>\n",
       "      <td>7</td>\n",
       "    </tr>\n",
       "    <tr>\n",
       "      <th>4</th>\n",
       "      <td>https://www.airbnb.com/rooms/24833</td>\n",
       "      <td>Prime LincolnPark 1 Block Fullerton Express L ...</td>\n",
       "      <td>Perfect private entrance apartment one block f...</td>\n",
       "      <td>Entire rental unit</td>\n",
       "      <td>Entire home/apt</td>\n",
       "      <td>3</td>\n",
       "      <td>1 bath</td>\n",
       "      <td>1.0</td>\n",
       "      <td>1.0</td>\n",
       "      <td>[\"Wine glasses\", \"Babysitter recommendations\",...</td>\n",
       "      <td>64.0</td>\n",
       "      <td>32</td>\n",
       "      <td>395</td>\n",
       "    </tr>\n",
       "  </tbody>\n",
       "</table>\n",
       "</div>"
      ],
      "text/plain": [
       "                          listing_url  \\\n",
       "0   https://www.airbnb.com/rooms/2384   \n",
       "1   https://www.airbnb.com/rooms/7126   \n",
       "2  https://www.airbnb.com/rooms/10945   \n",
       "3  https://www.airbnb.com/rooms/12140   \n",
       "4  https://www.airbnb.com/rooms/24833   \n",
       "\n",
       "                                                name  \\\n",
       "0                       Hyde Park - Walk to UChicago   \n",
       "1                Tiny Studio Apartment 94 Walk Score   \n",
       "2                              The Biddle House (#1)   \n",
       "3                           Lincoln Park Guest House   \n",
       "4  Prime LincolnPark 1 Block Fullerton Express L ...   \n",
       "\n",
       "                                         description           property_type  \\\n",
       "0  You are invited to be the sole Airbnb guest in...   Private room in condo   \n",
       "1  A very small studio in a wonderful neighborhoo...      Entire rental unit   \n",
       "2  Beautiful first floor apartment in Historic Ol...      Entire rental unit   \n",
       "3  Bed and Breakfast license issued by the City o...  Room in boutique hotel   \n",
       "4  Perfect private entrance apartment one block f...      Entire rental unit   \n",
       "\n",
       "         room_type  accommodates  bathrooms_text  bedrooms  beds  \\\n",
       "0     Private room             1   1 shared bath       1.0   1.0   \n",
       "1  Entire home/apt             2          1 bath       1.0   1.0   \n",
       "2  Entire home/apt             4          1 bath       2.0   2.0   \n",
       "3     Private room             3  1 private bath       1.0   1.0   \n",
       "4  Entire home/apt             3          1 bath       1.0   1.0   \n",
       "\n",
       "                                           amenities  price  minimum_nights  \\\n",
       "0  [\"Wine glasses\", \"Smoke alarm\", \"Paid parking ...   84.0               3   \n",
       "1  [\"Wine glasses\", \"Smoke alarm\", \"Iron\", \"Oven\"...   85.0               2   \n",
       "2  [\"Smoke alarm\", \"Iron\", \"Oven\", \"Long term sta...   95.0               4   \n",
       "3  [\"Smoke alarm\", \"Iron\", \"First aid kit\", \"Fire...  329.0               2   \n",
       "4  [\"Wine glasses\", \"Babysitter recommendations\",...   64.0              32   \n",
       "\n",
       "   maximum_nights  \n",
       "0              89  \n",
       "1              60  \n",
       "2            1125  \n",
       "3               7  \n",
       "4             395  "
      ]
     },
     "execution_count": 116,
     "metadata": {},
     "output_type": "execute_result"
    }
   ],
   "source": [
    "listing.head()"
   ]
  },
  {
   "attachments": {},
   "cell_type": "markdown",
   "metadata": {},
   "source": [
    "## Insert records to SQL database"
   ]
  },
  {
   "cell_type": "code",
   "execution_count": 117,
   "metadata": {},
   "outputs": [],
   "source": [
    "import psycopg2\n",
    "from sqlalchemy import create_engine"
   ]
  },
  {
   "cell_type": "code",
   "execution_count": 118,
   "metadata": {},
   "outputs": [],
   "source": [
    "conn_string = 'postgresql+psycopg2://julieannscherer@localhost:5432/airbnb'\n",
    "engine = create_engine(conn_string)\n",
    "# conn = engine.connect()"
   ]
  },
  {
   "cell_type": "code",
   "execution_count": 119,
   "metadata": {},
   "outputs": [
    {
     "data": {
      "text/plain": [
       "625"
      ]
     },
     "execution_count": 119,
     "metadata": {},
     "output_type": "execute_result"
    }
   ],
   "source": [
    "location.to_sql(\n",
    "\tname='location', \n",
    "  con=engine, \n",
    "  if_exists='append',\n",
    "  index=False,\n",
    ")"
   ]
  },
  {
   "cell_type": "code",
   "execution_count": 120,
   "metadata": {},
   "outputs": [
    {
     "data": {
      "text/plain": [
       "625"
      ]
     },
     "execution_count": 120,
     "metadata": {},
     "output_type": "execute_result"
    }
   ],
   "source": [
    "host.to_sql(\n",
    "  name='host', \n",
    "  con=engine, \n",
    "  if_exists='append',\n",
    "  index=False,\n",
    ")"
   ]
  },
  {
   "cell_type": "code",
   "execution_count": 121,
   "metadata": {},
   "outputs": [
    {
     "data": {
      "text/plain": [
       "625"
      ]
     },
     "execution_count": 121,
     "metadata": {},
     "output_type": "execute_result"
    }
   ],
   "source": [
    "reviews.to_sql(\n",
    "  name='reviews', \n",
    "  con=engine, \n",
    "  if_exists='append',\n",
    "  index=False,\n",
    ")"
   ]
  },
  {
   "cell_type": "code",
   "execution_count": 122,
   "metadata": {},
   "outputs": [
    {
     "data": {
      "text/plain": [
       "625"
      ]
     },
     "execution_count": 122,
     "metadata": {},
     "output_type": "execute_result"
    }
   ],
   "source": [
    "listing.to_sql(\n",
    "  name='listing', \n",
    "  con=engine, \n",
    "  if_exists='append',\n",
    "  index=False,\n",
    ")"
   ]
  },
  {
   "cell_type": "code",
   "execution_count": null,
   "metadata": {},
   "outputs": [],
   "source": []
  }
 ],
 "metadata": {
  "kernelspec": {
   "display_name": "venv",
   "language": "python",
   "name": "python3"
  },
  "language_info": {
   "codemirror_mode": {
    "name": "ipython",
    "version": 3
   },
   "file_extension": ".py",
   "mimetype": "text/x-python",
   "name": "python",
   "nbconvert_exporter": "python",
   "pygments_lexer": "ipython3",
   "version": "3.10.5"
  },
  "orig_nbformat": 4
 },
 "nbformat": 4,
 "nbformat_minor": 2
}
